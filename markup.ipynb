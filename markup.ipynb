{
 "cells": [
  {
   "cell_type": "code",
   "id": "initial_id",
   "metadata": {
    "collapsed": true,
    "ExecuteTime": {
     "end_time": "2024-08-27T13:37:44.798415Z",
     "start_time": "2024-08-27T13:37:44.233573Z"
    }
   },
   "source": [
    "import pandas as pd\n",
    "import numpy as np\n",
    "import os"
   ],
   "outputs": [],
   "execution_count": 1
  },
  {
   "metadata": {
    "ExecuteTime": {
     "end_time": "2024-08-27T13:37:48.959924Z",
     "start_time": "2024-08-27T13:37:48.957273Z"
    }
   },
   "cell_type": "code",
   "source": [
    "current_directory = os.getcwd()\n",
    "print(\"Current Working Directory:\", current_directory)"
   ],
   "id": "33c4e24d1eb91917",
   "outputs": [
    {
     "name": "stdout",
     "output_type": "stream",
     "text": [
      "Current Working Directory: C:\\Users\\jueming\\PycharmProjects\\Trade\n"
     ]
    }
   ],
   "execution_count": 2
  },
  {
   "metadata": {
    "ExecuteTime": {
     "end_time": "2024-08-27T13:37:52.253502Z",
     "start_time": "2024-08-27T13:37:49.704432Z"
    }
   },
   "cell_type": "code",
   "source": [
    "df = pd.read_stata('data/na.dta')\n",
    "df.head()"
   ],
   "id": "5599e1d7e392b957",
   "outputs": [
    {
     "data": {
      "text/plain": [
       "    gvkey   datadate   fyear indfmt consol popsrc datafmt  \\\n",
       "0  001000 1961-12-31  1961.0   INDL      C      D     STD   \n",
       "1  001000 1962-12-31  1962.0   INDL      C      D     STD   \n",
       "2  001000 1963-12-31  1963.0   INDL      C      D     STD   \n",
       "3  001000 1964-12-31  1964.0   INDL      C      D     STD   \n",
       "4  001000 1965-12-31  1965.0   INDL      C      D     STD   \n",
       "\n",
       "                    conm curcd   cogs  ...  intan_dc  oibdp_dc  ppegt_dc  \\\n",
       "0  A & E PLASTIK PAK INC   USD    NaN  ...       NaN       NaN       NaN   \n",
       "1  A & E PLASTIK PAK INC   USD    NaN  ...       NaN       NaN       NaN   \n",
       "2  A & E PLASTIK PAK INC   USD  1.065  ...       NaN       NaN       NaN   \n",
       "3  A & E PLASTIK PAK INC   USD  1.474  ...       NaN       NaN       NaN   \n",
       "4  A & E PLASTIK PAK INC   USD  1.342  ...       NaN       NaN       NaN   \n",
       "\n",
       "   ppent_dc  xad_dc  xlr_dc  xrd_dc  xsga_dc  dlrsn  naics  \n",
       "0       NaN     NaN     NaN     NaN      NaN     09         \n",
       "1       NaN     NaN     NaN     NaN      NaN     09         \n",
       "2       NaN     NaN     NaN     NaN      NaN     09         \n",
       "3       NaN     NaN     NaN     NaN      NaN     09         \n",
       "4       NaN     NaN     NaN     NaN      NaN     09         \n",
       "\n",
       "[5 rows x 47 columns]"
      ],
      "text/html": [
       "<div>\n",
       "<style scoped>\n",
       "    .dataframe tbody tr th:only-of-type {\n",
       "        vertical-align: middle;\n",
       "    }\n",
       "\n",
       "    .dataframe tbody tr th {\n",
       "        vertical-align: top;\n",
       "    }\n",
       "\n",
       "    .dataframe thead th {\n",
       "        text-align: right;\n",
       "    }\n",
       "</style>\n",
       "<table border=\"1\" class=\"dataframe\">\n",
       "  <thead>\n",
       "    <tr style=\"text-align: right;\">\n",
       "      <th></th>\n",
       "      <th>gvkey</th>\n",
       "      <th>datadate</th>\n",
       "      <th>fyear</th>\n",
       "      <th>indfmt</th>\n",
       "      <th>consol</th>\n",
       "      <th>popsrc</th>\n",
       "      <th>datafmt</th>\n",
       "      <th>conm</th>\n",
       "      <th>curcd</th>\n",
       "      <th>cogs</th>\n",
       "      <th>...</th>\n",
       "      <th>intan_dc</th>\n",
       "      <th>oibdp_dc</th>\n",
       "      <th>ppegt_dc</th>\n",
       "      <th>ppent_dc</th>\n",
       "      <th>xad_dc</th>\n",
       "      <th>xlr_dc</th>\n",
       "      <th>xrd_dc</th>\n",
       "      <th>xsga_dc</th>\n",
       "      <th>dlrsn</th>\n",
       "      <th>naics</th>\n",
       "    </tr>\n",
       "  </thead>\n",
       "  <tbody>\n",
       "    <tr>\n",
       "      <th>0</th>\n",
       "      <td>001000</td>\n",
       "      <td>1961-12-31</td>\n",
       "      <td>1961.0</td>\n",
       "      <td>INDL</td>\n",
       "      <td>C</td>\n",
       "      <td>D</td>\n",
       "      <td>STD</td>\n",
       "      <td>A &amp; E PLASTIK PAK INC</td>\n",
       "      <td>USD</td>\n",
       "      <td>NaN</td>\n",
       "      <td>...</td>\n",
       "      <td>NaN</td>\n",
       "      <td>NaN</td>\n",
       "      <td>NaN</td>\n",
       "      <td>NaN</td>\n",
       "      <td>NaN</td>\n",
       "      <td>NaN</td>\n",
       "      <td>NaN</td>\n",
       "      <td>NaN</td>\n",
       "      <td>09</td>\n",
       "      <td></td>\n",
       "    </tr>\n",
       "    <tr>\n",
       "      <th>1</th>\n",
       "      <td>001000</td>\n",
       "      <td>1962-12-31</td>\n",
       "      <td>1962.0</td>\n",
       "      <td>INDL</td>\n",
       "      <td>C</td>\n",
       "      <td>D</td>\n",
       "      <td>STD</td>\n",
       "      <td>A &amp; E PLASTIK PAK INC</td>\n",
       "      <td>USD</td>\n",
       "      <td>NaN</td>\n",
       "      <td>...</td>\n",
       "      <td>NaN</td>\n",
       "      <td>NaN</td>\n",
       "      <td>NaN</td>\n",
       "      <td>NaN</td>\n",
       "      <td>NaN</td>\n",
       "      <td>NaN</td>\n",
       "      <td>NaN</td>\n",
       "      <td>NaN</td>\n",
       "      <td>09</td>\n",
       "      <td></td>\n",
       "    </tr>\n",
       "    <tr>\n",
       "      <th>2</th>\n",
       "      <td>001000</td>\n",
       "      <td>1963-12-31</td>\n",
       "      <td>1963.0</td>\n",
       "      <td>INDL</td>\n",
       "      <td>C</td>\n",
       "      <td>D</td>\n",
       "      <td>STD</td>\n",
       "      <td>A &amp; E PLASTIK PAK INC</td>\n",
       "      <td>USD</td>\n",
       "      <td>1.065</td>\n",
       "      <td>...</td>\n",
       "      <td>NaN</td>\n",
       "      <td>NaN</td>\n",
       "      <td>NaN</td>\n",
       "      <td>NaN</td>\n",
       "      <td>NaN</td>\n",
       "      <td>NaN</td>\n",
       "      <td>NaN</td>\n",
       "      <td>NaN</td>\n",
       "      <td>09</td>\n",
       "      <td></td>\n",
       "    </tr>\n",
       "    <tr>\n",
       "      <th>3</th>\n",
       "      <td>001000</td>\n",
       "      <td>1964-12-31</td>\n",
       "      <td>1964.0</td>\n",
       "      <td>INDL</td>\n",
       "      <td>C</td>\n",
       "      <td>D</td>\n",
       "      <td>STD</td>\n",
       "      <td>A &amp; E PLASTIK PAK INC</td>\n",
       "      <td>USD</td>\n",
       "      <td>1.474</td>\n",
       "      <td>...</td>\n",
       "      <td>NaN</td>\n",
       "      <td>NaN</td>\n",
       "      <td>NaN</td>\n",
       "      <td>NaN</td>\n",
       "      <td>NaN</td>\n",
       "      <td>NaN</td>\n",
       "      <td>NaN</td>\n",
       "      <td>NaN</td>\n",
       "      <td>09</td>\n",
       "      <td></td>\n",
       "    </tr>\n",
       "    <tr>\n",
       "      <th>4</th>\n",
       "      <td>001000</td>\n",
       "      <td>1965-12-31</td>\n",
       "      <td>1965.0</td>\n",
       "      <td>INDL</td>\n",
       "      <td>C</td>\n",
       "      <td>D</td>\n",
       "      <td>STD</td>\n",
       "      <td>A &amp; E PLASTIK PAK INC</td>\n",
       "      <td>USD</td>\n",
       "      <td>1.342</td>\n",
       "      <td>...</td>\n",
       "      <td>NaN</td>\n",
       "      <td>NaN</td>\n",
       "      <td>NaN</td>\n",
       "      <td>NaN</td>\n",
       "      <td>NaN</td>\n",
       "      <td>NaN</td>\n",
       "      <td>NaN</td>\n",
       "      <td>NaN</td>\n",
       "      <td>09</td>\n",
       "      <td></td>\n",
       "    </tr>\n",
       "  </tbody>\n",
       "</table>\n",
       "<p>5 rows × 47 columns</p>\n",
       "</div>"
      ]
     },
     "execution_count": 3,
     "metadata": {},
     "output_type": "execute_result"
    }
   ],
   "execution_count": 3
  },
  {
   "metadata": {
    "ExecuteTime": {
     "end_time": "2024-08-27T13:37:54.565812Z",
     "start_time": "2024-08-27T13:37:53.752304Z"
    }
   },
   "cell_type": "code",
   "source": [
    "# 1. Sort by 'gvkey' and 'fyear'\n",
    "df = df.sort_values(by=['gvkey', 'fyear'])\n",
    "\n",
    "# 2. Rename 'fyear' to 'year'\n",
    "df = df.rename(columns={'fyear': 'year'})\n",
    "\n",
    "# 3. Create 'nrobs' by counting the number of observations by 'gvkey' and 'year'\n",
    "df['nrobs'] = df.groupby(['gvkey', 'year'])['gvkey'].transform('size')\n",
    "\n",
    "# 4. Drop observations for one industry (some firms are in several industries)\n",
    "df = df[~(((df['nrobs'] == 2) | (df['nrobs'] == 3)) & (df['indfmt'] == \"FS\"))]\n",
    "\n",
    "# 5. Sort by 'gvkey' and 'year' again\n",
    "df = df.sort_values(by=['gvkey', 'year'])\n",
    "\n",
    "# 6. Drop duplicates where 'gvkey' and 'year' are the same in consecutive rows\n",
    "df = df[~((df['gvkey'] == df['gvkey'].shift()) & (df['year'] == df['year'].shift()))]\n",
    "\n",
    "# 7. Drop firms without industry information\n",
    "df = df[df['naics'].notna() & (df['naics'] != \"\")]\n"
   ],
   "id": "9f9d51449a28354e",
   "outputs": [],
   "execution_count": 4
  },
  {
   "metadata": {
    "ExecuteTime": {
     "end_time": "2024-08-27T13:37:55.643146Z",
     "start_time": "2024-08-27T13:37:55.442642Z"
    }
   },
   "cell_type": "code",
   "source": [
    "# 8. Generate industry codes for the first 2, 3, and 4 digits of 'naics' and convert them to numeric\n",
    "for i in range(2, 5):\n",
    "    df[f'ind{i}d'] = df['naics'].str[:i].astype(int)\n",
    "    df[f'nrind{i}'] = df.groupby(f'ind{i}d').ngroup()"
   ],
   "id": "27d120ebd92bfea8",
   "outputs": [],
   "execution_count": 5
  },
  {
   "metadata": {
    "ExecuteTime": {
     "end_time": "2024-08-27T13:37:56.389919Z",
     "start_time": "2024-08-27T13:37:56.335021Z"
    }
   },
   "cell_type": "code",
   "source": [
    "# 1. Create a new variable 'newmk2' which is the product of 'prcc_f' and 'csho'\n",
    "df['newmk2'] = df['prcc_f'] * df['csho']\n",
    "\n",
    "# 2. Label the new variable (This step is just a comment in Python)\n",
    "# In Python, you can't directly label variables like in Stata, but you can use comments or metadata for documentation.\n",
    "# \"fiscal year market value prior 1998\"\n",
    "\n",
    "# 3. Replace 'mkvalt' with 'newmk2' where 'mkvalt' is missing\n",
    "# df['mkvalt'] = df['mkvalt'].combine_first(df['newmk2'])\n",
    "df['mkvalt'] = df['newmk2']  # Global does not have market value\n",
    "\n",
    "# 4. Keep only the specified variables\n",
    "df = df[['gvkey', 'year', 'naics', 'sale', 'cogs', 'xsga', 'xlr', 'xrd', 'xad', 'dvt', 'ppegt', 'intan', 'emp', 'mkvalt', 'oibdp'] + [col for col in df.columns if col.startswith('ind')]]\n",
    "\n",
    "# 5. Convert the selected variables to comparable units (multiply by 1000)\n",
    "vars_to_convert = ['sale', 'cogs', 'xsga', 'xlr', 'oibdp', 'mkvalt', 'dvt', 'ppegt', 'intan']\n",
    "df[vars_to_convert] = df[vars_to_convert] * 1000"
   ],
   "id": "2457b108c682e1f2",
   "outputs": [],
   "execution_count": 6
  },
  {
   "metadata": {
    "ExecuteTime": {
     "end_time": "2024-08-27T13:38:04.036580Z",
     "start_time": "2024-08-27T13:38:03.670352Z"
    }
   },
   "cell_type": "code",
   "source": [
    "# 1. Sort by 'year'\n",
    "df = df.sort_values(by='year')\n",
    "\n",
    "# 2. Merge with a DataFrame called 'macro_df' loaded from 'macro_vars.dta'\n",
    "# Assuming 'macro_df' is another DataFrame containing the 'macro_vars' data\n",
    "macro_df = pd.read_stata('data/macro_vars.dta')\n",
    "df = df.merge(macro_df, on='year', how='inner', suffixes=('', '_macro'))\n",
    "\n",
    "# 3. Keep only rows where merge indicator is 3 (i.e., only rows present in both datasets)\n",
    "# In pandas, the inner join automatically keeps only those rows.\n",
    "# This would already be handled by the `how='inner'` in the merge above.\n",
    "\n",
    "# 4. Deflate values by dividing by 'USGDP' and multiplying by 100\n",
    "df['sale_D'] = (df['sale'] / df['USGDP']) * 100\n",
    "df['cogs_D'] = (df['cogs'] / df['USGDP']) * 100\n",
    "df['xsga_D'] = (df['xsga'] / df['USGDP']) * 100\n",
    "df['mkvalt_D'] = (df['mkvalt'] / df['USGDP']) * 100\n",
    "df['dividend_D'] = (df['dvt'] / df['USGDP']) * 100\n",
    "df['capital_D'] = (df['ppegt'] / df['USGDP']) * 100\n",
    "df['intan_D'] = (df['intan'] / df['USGDP']) * 100\n",
    "df['xlr_D'] = (df['xlr'] / df['USGDP']) * 100\n",
    "\n",
    "# 5. Calculate 'kexp' as the product of 'usercost' and 'capital_D'\n",
    "df['kexp'] = df['usercost'] * df['capital_D']\n",
    "\n",
    "# 6. Calculate 'mat1' as ((sale - xlr - oibdp) / USGDP) * 100\n",
    "df['mat1'] = ((df['sale'] - df['xlr'] - df['oibdp']) / df['USGDP']) * 100\n",
    "\n",
    "# 7. Trim: Drop rows where deflated 'sale_D', 'cogs_D', or 'xsga' are negative\n",
    "df = df[(df['sale_D'] >= 0) & (df['cogs_D'] >= 0) & (df['xsga_D'] >= 0)]\n",
    "\n",
    "# 8. Calculate the sales-to-COGS ratio 's_g'\n",
    "df['s_g'] = df['sale'] / df['cogs']\n",
    "\n",
    "# 9. Keep only rows where 's_g' is greater than 0\n",
    "df = df[df['s_g'] > 0]\n",
    "\n",
    "# 10. Add a 'trim' indicator column, set to 0 for all rows\n",
    "df['trim'] = 0\n",
    "\n",
    "# 11. Keep only rows where 'year' is greater than 1949\n",
    "df = df[df['year'] > 1949]\n"
   ],
   "id": "d768b9572702fd07",
   "outputs": [],
   "execution_count": 7
  },
  {
   "metadata": {
    "ExecuteTime": {
     "end_time": "2024-08-27T13:38:08.642691Z",
     "start_time": "2024-08-27T13:38:04.762475Z"
    }
   },
   "cell_type": "code",
   "source": "df.to_csv('na_deflated.csv', index=False)",
   "id": "1e06e7f94faf6a74",
   "outputs": [],
   "execution_count": 8
  },
  {
   "metadata": {
    "jupyter": {
     "is_executing": true
    },
    "ExecuteTime": {
     "start_time": "2024-08-26T20:54:22.261882Z"
    }
   },
   "cell_type": "code",
   "source": [
    "# Assuming the DataFrame `df` has been processed as described earlier\n",
    "\n",
    "# 1. Calculate percentiles from 1 to 5\n",
    "for t in range(1, 6):\n",
    "    df[f's_g_p_{t}'] = df.groupby('year')['s_g'].transform(lambda x: x.quantile(t / 100))\n",
    "\n",
    "# 2. Calculate percentiles from 95 to 99\n",
    "for s in range(95, 100):\n",
    "    df[f's_g_p_{s}'] = df.groupby('year')['s_g'].transform(lambda x: x.quantile(s / 100))\n",
    "\n",
    "# 3. Label variables using comments (Python doesn't have direct variable labels like Stata)\n",
    "# Label cogs and emp (Adding comments in your code to explain these variables)\n",
    "# Costs directly allocated to production, such as material, labor, and overhead\n",
    "# Number of people employed by the company and its consolidated subsidiaries in thousands\n",
    "\n",
    "# 4. Label deflated variables with descriptions\n",
    "deflate_vars = ['sale', 'cogs', 'xsga', 'mkvalt', 'intan', 'xlr']\n",
    "for var in deflate_vars:\n",
    "    df[f'{var}_D'] = df[f'{var}_D']  # Placeholder for labeling (use comments)\n",
    "\n",
    "# Deflated Dvt\n",
    "# Deflated cap\n",
    "# Real capital expenditure\n",
    "\n",
    "# 5. Label industry codes and other variables\n",
    "# 2 digit NAICS\n",
    "# 3 digit NAICS\n",
    "# 4 digit NAICS\n",
    "# usercost (i-delf+deprc)\n",
    "# Capital expenses\n",
    "# Material cost imputed\n",
    "# sale-cogs ratio\n",
    "\n",
    "# 6. Sort by 'gvkey' and 'year'\n",
    "df = df.sort_values(by=['gvkey', 'year'])\n",
    "\n",
    "# 7. Trim data based on s_g percentiles and save as CSV\n",
    "df_trim = df[(df['s_g'] > df['s_g_p_1']) & (df['s_g'] < df['s_g_p_99'])]\n",
    "df_trim['trim'] = 1\n",
    "df_trim = df_trim.drop(columns=[col for col in df_trim.columns if col.startswith('s_g_p') or col == 'macro' or col == 'trim'])\n",
    "df_trim.to_csv('data_main_upd_trim_1.csv', index=False)\n",
    "\n",
    "# 8. Higher trims from 2 to 5\n",
    "for t in range(2, 6):\n",
    "    df_trim_t = df[(df['s_g'] > df[f's_g_p_{t}']) & (df['s_g'] < df[f's_g_p_{100-t}'])]\n",
    "    df_trim_t['trim'] = t\n",
    "    df_trim_t = df_trim_t.drop(columns=[col for col in df_trim_t.columns if col.startswith('s_g_p') or col == 'macro' or col == 'trim'])\n",
    "    df_trim_t.to_csv(f'data_main_upd_trim_{t}.csv', index=False)\n",
    "\n",
    "# Note: The `preserve` and `restore` commands in Stata are used to save the state of the dataset \n",
    "# and restore it later. In pandas, you can achieve similar functionality by creating copies of \n",
    "# your DataFrame.\n"
   ],
   "id": "cbfd18f3c284f55c",
   "outputs": [
    {
     "name": "stderr",
     "output_type": "stream",
     "text": [
      "C:\\Users\\jueming\\AppData\\Local\\Temp\\ipykernel_25852\\1086498819.py:41: SettingWithCopyWarning: \n",
      "A value is trying to be set on a copy of a slice from a DataFrame.\n",
      "Try using .loc[row_indexer,col_indexer] = value instead\n",
      "\n",
      "See the caveats in the documentation: https://pandas.pydata.org/pandas-docs/stable/user_guide/indexing.html#returning-a-view-versus-a-copy\n",
      "  df_trim['trim'] = 1\n",
      "C:\\Users\\jueming\\AppData\\Local\\Temp\\ipykernel_25852\\1086498819.py:48: SettingWithCopyWarning: \n",
      "A value is trying to be set on a copy of a slice from a DataFrame.\n",
      "Try using .loc[row_indexer,col_indexer] = value instead\n",
      "\n",
      "See the caveats in the documentation: https://pandas.pydata.org/pandas-docs/stable/user_guide/indexing.html#returning-a-view-versus-a-copy\n",
      "  df_trim_t['trim'] = t\n"
     ]
    }
   ],
   "execution_count": null
  }
 ],
 "metadata": {
  "kernelspec": {
   "display_name": "Python 3",
   "language": "python",
   "name": "python3"
  },
  "language_info": {
   "codemirror_mode": {
    "name": "ipython",
    "version": 2
   },
   "file_extension": ".py",
   "mimetype": "text/x-python",
   "name": "python",
   "nbconvert_exporter": "python",
   "pygments_lexer": "ipython2",
   "version": "2.7.6"
  }
 },
 "nbformat": 4,
 "nbformat_minor": 5
}
